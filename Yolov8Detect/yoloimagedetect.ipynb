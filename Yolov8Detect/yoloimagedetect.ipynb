{
 "cells": [
  {
   "cell_type": "code",
   "execution_count": null,
   "metadata": {},
   "outputs": [],
   "source": [
    "!pip install ultralytics"
   ]
  },
  {
   "cell_type": "code",
   "execution_count": null,
   "metadata": {},
   "outputs": [],
   "source": [
    "!yolo task=detect mode=predict model=yolov8n.pt source=\"yoloimagedetect.ipynb\" save_txt=True save_conf=True"
   ]
  },
  {
   "cell_type": "code",
   "execution_count": null,
   "metadata": {},
   "outputs": [],
   "source": [
    "import cv2\n",
    "import numpy as np\n",
    "\n",
    "# Paths\n",
    "image_path = 'images/1.jpg'\n",
    "result_path = 'runs/detect/predict/labels/1.txt'  # Update this path according to your YOLO output\n",
    "\n",
    "# Load the image\n",
    "img = cv2.imread(image_path)\n",
    "\n",
    "# Read the detection results\n",
    "with open(result_path, 'r') as f:\n",
    "    lines = f.readlines()\n",
    "\n",
    "# Iterate over each detected object and draw the bounding box\n",
    "for line in lines:\n",
    "    parts = line.strip().split()\n",
    "    class_id = int(parts[0])\n",
    "    x_center = float(parts[1])\n",
    "    y_center = float(parts[2])\n",
    "    width = float(parts[3])\n",
    "    height = float(parts[4])\n",
    "    \n",
    "    # Convert YOLO format to bounding box format\n",
    "    img_height, img_width = img.shape[:2]\n",
    "    x_min = int((x_center - width / 2) * img_width)\n",
    "    x_max = int((x_center + width / 2) * img_width)\n",
    "    y_min = int((y_center - height / 2) * img_height)\n",
    "    y_max = int((y_center + height / 2) * img_height)\n",
    "    \n",
    "    # Draw the bounding box\n",
    "    cv2.rectangle(img, (x_min, y_min), (x_max, y_max), (0, 255, 0), 2)\n",
    "\n",
    "# Display the image with bounding boxes\n",
    "cv2.imshow('Detected Objects', img)\n",
    "cv2.waitKey(0)\n",
    "cv2.destroyAllWindows()"
   ]
  }
 ],
 "metadata": {
  "language_info": {
   "name": "python"
  }
 },
 "nbformat": 4,
 "nbformat_minor": 2
}
